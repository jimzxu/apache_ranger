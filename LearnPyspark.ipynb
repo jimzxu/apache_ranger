{
  "nbformat": 4,
  "nbformat_minor": 0,
  "metadata": {
    "colab": {
      "name": "LearnPyspark.ipynb",
      "provenance": [],
      "collapsed_sections": [],
      "include_colab_link": true
    },
    "kernelspec": {
      "name": "python3",
      "display_name": "Python 3"
    }
  },
  "cells": [
    {
      "cell_type": "markdown",
      "metadata": {
        "id": "view-in-github",
        "colab_type": "text"
      },
      "source": [
        "<a href=\"https://colab.research.google.com/github/jimzxu/apache_ranger/blob/master/LearnPyspark.ipynb\" target=\"_parent\"><img src=\"https://colab.research.google.com/assets/colab-badge.svg\" alt=\"Open In Colab\"/></a>"
      ]
    },
    {
      "cell_type": "code",
      "metadata": {
        "id": "m8eyOVTlBu9L",
        "colab_type": "code",
        "outputId": "965327c9-20e3-4521-a71f-f20e2778d95c",
        "colab": {
          "base_uri": "https://localhost:8080/",
          "height": 51
        }
      },
      "source": [
        "!pip install pyspark"
      ],
      "execution_count": 118,
      "outputs": [
        {
          "output_type": "stream",
          "text": [
            "Requirement already satisfied: pyspark in /usr/local/lib/python3.6/dist-packages (2.4.5)\n",
            "Requirement already satisfied: py4j==0.10.7 in /usr/local/lib/python3.6/dist-packages (from pyspark) (0.10.7)\n"
          ],
          "name": "stdout"
        }
      ]
    },
    {
      "cell_type": "code",
      "metadata": {
        "id": "Y9cz06cxCLdr",
        "colab_type": "code",
        "colab": {}
      },
      "source": [
        "from pyspark.sql import SparkSession\n",
        "spark = SparkSession.builder \\\n",
        ".appName(\"PysparkExample1\") \\\n",
        ".config(\"spark.some.config.option\", \"some-value\") \\\n",
        ".getOrCreate()\n"
      ],
      "execution_count": 0,
      "outputs": []
    },
    {
      "cell_type": "code",
      "metadata": {
        "id": "kNC0nXP4C81H",
        "colab_type": "code",
        "colab": {}
      },
      "source": [
        "df = spark.sparkContext.parallelize([(1,2,3,'a b c'),(4,5,6,'d e f'),(7,8,9, 'g h i')]) \\\n",
        ".toDF(['col1', 'col2', 'col3', 'col4'])"
      ],
      "execution_count": 0,
      "outputs": []
    },
    {
      "cell_type": "code",
      "metadata": {
        "id": "6mt56RUFDgzW",
        "colab_type": "code",
        "outputId": "d8484b6b-13c3-425e-f21b-00e6df1c638f",
        "colab": {
          "base_uri": "https://localhost:8080/",
          "height": 153
        }
      },
      "source": [
        "df.show()"
      ],
      "execution_count": 121,
      "outputs": [
        {
          "output_type": "stream",
          "text": [
            "+----+----+----+-----+\n",
            "|col1|col2|col3| col4|\n",
            "+----+----+----+-----+\n",
            "|   1|   2|   3|a b c|\n",
            "|   4|   5|   6|d e f|\n",
            "|   7|   8|   9|g h i|\n",
            "+----+----+----+-----+\n",
            "\n"
          ],
          "name": "stdout"
        }
      ]
    },
    {
      "cell_type": "code",
      "metadata": {
        "id": "zKfqjz5e6RYT",
        "colab_type": "code",
        "outputId": "c7bd4329-fa51-4b47-d160-cf5898f25c9c",
        "colab": {
          "base_uri": "https://localhost:8080/",
          "height": 34
        }
      },
      "source": [
        "df.columns"
      ],
      "execution_count": 122,
      "outputs": [
        {
          "output_type": "execute_result",
          "data": {
            "text/plain": [
              "['col1', 'col2', 'col3', 'col4']"
            ]
          },
          "metadata": {
            "tags": []
          },
          "execution_count": 122
        }
      ]
    },
    {
      "cell_type": "code",
      "metadata": {
        "id": "jfGsJwgKC8Nt",
        "colab_type": "code",
        "outputId": "82eefcb1-6e09-40a5-da7d-53d8416871a0",
        "colab": {
          "base_uri": "https://localhost:8080/",
          "height": 153
        }
      },
      "source": [
        "!ls -l sample_data/"
      ],
      "execution_count": 123,
      "outputs": [
        {
          "output_type": "stream",
          "text": [
            "total 55508\n",
            "-rwxr-xr-x 1 root root     1697 Jan  1  2000 anscombe.json\n",
            "-rw-r--r-- 1 root root   301141 Apr  3 16:24 california_housing_test.csv\n",
            "-rw-r--r-- 1 root root  1706430 Apr  3 16:24 california_housing_train.csv\n",
            "-rw-r--r-- 1 root root 18289443 Apr  3 16:24 mnist_test.csv\n",
            "-rw-r--r-- 1 root root 36523880 Apr  3 16:24 mnist_train_small.csv\n",
            "-rwxr-xr-x 1 root root      930 Jan  1  2000 README.md\n",
            "-rw-r--r-- 1 root root       13 Apr 12 13:41 somefile.txt\n"
          ],
          "name": "stdout"
        }
      ]
    },
    {
      "cell_type": "code",
      "metadata": {
        "id": "kf2ls6nJQFYt",
        "colab_type": "code",
        "colab": {}
      },
      "source": [
        "with open('sample_data/anscombe.json', 'rt', encoding='utf-8') as f:\n",
        "  data = f.read()"
      ],
      "execution_count": 0,
      "outputs": []
    },
    {
      "cell_type": "code",
      "metadata": {
        "id": "e6a5muHmWSDa",
        "colab_type": "code",
        "colab": {}
      },
      "source": [
        "with open('sample_data/somefile.txt', 'wt', encoding='utf-8') as outfile:\n",
        "  print('Hello world!', file=outfile)"
      ],
      "execution_count": 0,
      "outputs": []
    },
    {
      "cell_type": "code",
      "metadata": {
        "id": "YmecKZUDWn5j",
        "colab_type": "code",
        "outputId": "0b9d684b-086b-447f-afc8-9dcfdaadfed4",
        "colab": {
          "base_uri": "https://localhost:8080/",
          "height": 34
        }
      },
      "source": [
        "!cat sample_data/somefile.txt"
      ],
      "execution_count": 126,
      "outputs": [
        {
          "output_type": "stream",
          "text": [
            "Hello world!\n"
          ],
          "name": "stdout"
        }
      ]
    },
    {
      "cell_type": "code",
      "metadata": {
        "id": "OyElydh2dEY7",
        "colab_type": "code",
        "colab": {}
      },
      "source": [
        "import io"
      ],
      "execution_count": 0,
      "outputs": []
    },
    {
      "cell_type": "code",
      "metadata": {
        "id": "Qcn5e9-udLDf",
        "colab_type": "code",
        "outputId": "18d26a38-c08a-4da9-bc92-0ea832958ef3",
        "colab": {
          "base_uri": "https://localhost:8080/",
          "height": 34
        }
      },
      "source": [
        "s = io.StringIO()\n",
        "s.write('Hello There\\n')\n",
        "print('This is a testing', file=s)\n",
        "s.getvalue()"
      ],
      "execution_count": 128,
      "outputs": [
        {
          "output_type": "execute_result",
          "data": {
            "text/plain": [
              "'Hello There\\nThis is a testing\\n'"
            ]
          },
          "metadata": {
            "tags": []
          },
          "execution_count": 128
        }
      ]
    },
    {
      "cell_type": "code",
      "metadata": {
        "id": "bzK6dFKod2fR",
        "colab_type": "code",
        "colab": {}
      },
      "source": [
        "import gzip"
      ],
      "execution_count": 0,
      "outputs": []
    },
    {
      "cell_type": "code",
      "metadata": {
        "id": "fjxi6Hbrd78_",
        "colab_type": "code",
        "outputId": "1c3658bd-6565-47aa-c334-54e2a206ae5b",
        "colab": {
          "base_uri": "https://localhost:8080/",
          "height": 51
        }
      },
      "source": [
        "!mkdir sample\n",
        "with gzip.open('sample/somefile.gz', 'wt') as zipf:\n",
        "  zipf.write('some data in zip file')\n",
        "!zcat sample/somefile.gz"
      ],
      "execution_count": 130,
      "outputs": [
        {
          "output_type": "stream",
          "text": [
            "mkdir: cannot create directory ‘sample’: File exists\n",
            "some data in zip file"
          ],
          "name": "stdout"
        }
      ]
    },
    {
      "cell_type": "code",
      "metadata": {
        "id": "hSQsxPlKj59E",
        "colab_type": "code",
        "colab": {}
      },
      "source": [
        "import os"
      ],
      "execution_count": 0,
      "outputs": []
    },
    {
      "cell_type": "code",
      "metadata": {
        "id": "XxdE0b73j8p4",
        "colab_type": "code",
        "outputId": "b112a271-9e66-4b80-984e-276cf9431495",
        "colab": {
          "base_uri": "https://localhost:8080/",
          "height": 34
        }
      },
      "source": [
        "path = '/content/sample/data/data.csv'\n",
        "os.path.basename(path)\n",
        "os.path.dirname(path)\n",
        "os.path.join('tmp','data', os.path.basename(path))\n",
        "os.path.splitext(path)\n",
        "os.path.split(path)"
      ],
      "execution_count": 132,
      "outputs": [
        {
          "output_type": "execute_result",
          "data": {
            "text/plain": [
              "('/content/sample/data', 'data.csv')"
            ]
          },
          "metadata": {
            "tags": []
          },
          "execution_count": 132
        }
      ]
    },
    {
      "cell_type": "code",
      "metadata": {
        "id": "Or0p4ovrmFUA",
        "colab_type": "code",
        "colab": {
          "base_uri": "https://localhost:8080/",
          "height": 34
        },
        "outputId": "c5d3ae2d-665a-485b-9d7b-9df51dad1b5c"
      },
      "source": [
        "os.path.exists('/content/')\n",
        "os.path.isfile('/content/sample/somefile.gz')\n",
        "os.listdir('/content/sample/')"
      ],
      "execution_count": 133,
      "outputs": [
        {
          "output_type": "execute_result",
          "data": {
            "text/plain": [
              "['s2.json', 'somefile.gz', 's1.data']"
            ]
          },
          "metadata": {
            "tags": []
          },
          "execution_count": 133
        }
      ]
    },
    {
      "cell_type": "code",
      "metadata": {
        "id": "-DxCJAH2o2Z2",
        "colab_type": "code",
        "colab": {}
      },
      "source": [
        "import pickle\n",
        "import json"
      ],
      "execution_count": 0,
      "outputs": []
    },
    {
      "cell_type": "code",
      "metadata": {
        "id": "n42AJ-jko5r0",
        "colab_type": "code",
        "colab": {
          "base_uri": "https://localhost:8080/",
          "height": 51
        },
        "outputId": "5060ffa8-d18c-4248-bd43-44f982f9b9b4"
      },
      "source": [
        "data = {'key1':'value1', 'key2':'value2'}\n",
        "with open('sample/s1.data','wb') as bfile:\n",
        "  pickle.dump(data, bfile)\n",
        "\n",
        "with open('sample/s2.json', 'wt') as jsonfile:\n",
        "  json.dump(data, jsonfile)\n",
        "!ls sample/\n",
        "!cat sample/s2.json"
      ],
      "execution_count": 135,
      "outputs": [
        {
          "output_type": "stream",
          "text": [
            "s1.data  s2.json  somefile.gz\n",
            "{\"key1\": \"value1\", \"key2\": \"value2\"}"
          ],
          "name": "stdout"
        }
      ]
    },
    {
      "cell_type": "code",
      "metadata": {
        "id": "_5sjHJEwyg4s",
        "colab_type": "code",
        "colab": {}
      },
      "source": [
        "import re"
      ],
      "execution_count": 0,
      "outputs": []
    },
    {
      "cell_type": "code",
      "metadata": {
        "id": "EOcVo5mZyjC6",
        "colab_type": "code",
        "outputId": "87af6711-a6b8-49ea-b337-298ea6600789",
        "colab": {
          "base_uri": "https://localhost:8080/",
          "height": 68
        }
      },
      "source": [
        "line = 'asdf fjdk;  afed, fjek,asdf,      fdah'\n",
        "line_contents = re.split(r'[;,\\s]\\s*', line) \n",
        "fields = re.split(r'(,|;|\\s)\\s*', line)\n",
        "values = fields[::2]\n",
        "delimiters = fields[1::2]+['']\n",
        "joined_fields = ''.join(v+d for v,d in zip(fields, delimiters))\n",
        "text1 = '11/27/2012'\n",
        "text2 = 'Nov 27, 2012'\n",
        "if re.match(r'\\d+/\\d+/\\d+', text1):\n",
        "  print('yes')\n",
        "else:\n",
        "  print('no')\n",
        "datepat = re.compile(r'\\d+/\\d+/\\d+')\n",
        "if datepat.match(text1):\n",
        "  print('yes')\n",
        "else:\n",
        "  print('no')\n",
        "datepat.findall(text1)\n",
        "datepatm = re.compile(r'(\\d+)/(\\d+)/(\\d+)')\n",
        "m = datepatm.match('11/27/2012')\n",
        "m.group(0)\n",
        "m.group(1)\n",
        "m.group(2)\n",
        "m.group(3)\n",
        "m.groups()"
      ],
      "execution_count": 137,
      "outputs": [
        {
          "output_type": "stream",
          "text": [
            "yes\n",
            "yes\n"
          ],
          "name": "stdout"
        },
        {
          "output_type": "execute_result",
          "data": {
            "text/plain": [
              "('11', '27', '2012')"
            ]
          },
          "metadata": {
            "tags": []
          },
          "execution_count": 137
        }
      ]
    },
    {
      "cell_type": "code",
      "metadata": {
        "id": "2odHHo_VymMr",
        "colab_type": "code",
        "outputId": "50d5b3dc-0bf9-46e4-91c6-2087ce430d2c",
        "colab": {
          "base_uri": "https://localhost:8080/",
          "height": 34
        }
      },
      "source": [
        "filenames = os.listdir('sample/')\n",
        "any(name.endswith('json') for name in filenames)\n"
      ],
      "execution_count": 138,
      "outputs": [
        {
          "output_type": "execute_result",
          "data": {
            "text/plain": [
              "True"
            ]
          },
          "metadata": {
            "tags": []
          },
          "execution_count": 138
        }
      ]
    },
    {
      "cell_type": "code",
      "metadata": {
        "id": "EPlTKogKCduR",
        "colab_type": "code",
        "outputId": "c89bbcb7-d5b5-4c40-99aa-6a7900f0d4c9",
        "colab": {
          "base_uri": "https://localhost:8080/",
          "height": 34
        }
      },
      "source": [
        "from fnmatch import fnmatch, fnmatchcase\n",
        "fnmatch('foo.txt', '*.txt')\n",
        "fnmatch('foo.txt', '?oo.txt')"
      ],
      "execution_count": 139,
      "outputs": [
        {
          "output_type": "execute_result",
          "data": {
            "text/plain": [
              "True"
            ]
          },
          "metadata": {
            "tags": []
          },
          "execution_count": 139
        }
      ]
    },
    {
      "cell_type": "code",
      "metadata": {
        "id": "uHL8jS9KF_mx",
        "colab_type": "code",
        "outputId": "7e34f92c-e76d-473e-a44e-1c6789873667",
        "colab": {
          "base_uri": "https://localhost:8080/",
          "height": 34
        }
      },
      "source": [
        "text = 'yeah, but no, but yeah, but no, but yeah'\n",
        "text.find('no')\n"
      ],
      "execution_count": 140,
      "outputs": [
        {
          "output_type": "execute_result",
          "data": {
            "text/plain": [
              "10"
            ]
          },
          "metadata": {
            "tags": []
          },
          "execution_count": 140
        }
      ]
    },
    {
      "cell_type": "code",
      "metadata": {
        "id": "NF7lm_u7OIp7",
        "colab_type": "code",
        "outputId": "69d67485-a31c-4b39-880a-422d4aa157a8",
        "colab": {
          "base_uri": "https://localhost:8080/",
          "height": 34
        }
      },
      "source": [
        "text = 'UPPER PYTHON, lower python, Mixed Python'\n",
        "re.findall('python', text, flags=re.IGNORECASE)\n",
        "re.sub('python', 'snake', text, flags=re.IGNORECASE)"
      ],
      "execution_count": 141,
      "outputs": [
        {
          "output_type": "execute_result",
          "data": {
            "text/plain": [
              "'UPPER snake, lower snake, Mixed snake'"
            ]
          },
          "metadata": {
            "tags": []
          },
          "execution_count": 141
        }
      ]
    },
    {
      "cell_type": "code",
      "metadata": {
        "id": "nyQsAKMCRp-h",
        "colab_type": "code",
        "outputId": "95314601-d8dd-468c-a3c4-ab58f576105d",
        "colab": {
          "base_uri": "https://localhost:8080/",
          "height": 34
        }
      },
      "source": [
        "s = '   hello world   \\n'\n",
        "s.strip()\n",
        "s.lstrip()\n",
        "s.rstrip()\n",
        "re.sub('\\s+', ' ', s)\n",
        "print('a', 'b', 'c', sep=':')"
      ],
      "execution_count": 142,
      "outputs": [
        {
          "output_type": "stream",
          "text": [
            "a:b:c\n"
          ],
          "name": "stdout"
        }
      ]
    },
    {
      "cell_type": "code",
      "metadata": {
        "id": "SLL4iPfwTexv",
        "colab_type": "code",
        "colab": {}
      },
      "source": [
        ""
      ],
      "execution_count": 0,
      "outputs": []
    },
    {
      "cell_type": "markdown",
      "metadata": {
        "id": "X5f3VSI-oeTP",
        "colab_type": "text"
      },
      "source": [
        "Pyspark Receipts\n",
        "\n",
        "https://kontext.tech/column/spark/316/pyspark-convert-python-arraylist-to-spark-data-frame"
      ]
    },
    {
      "cell_type": "code",
      "metadata": {
        "id": "v9LKWWVorO6T",
        "colab_type": "code",
        "colab": {
          "base_uri": "https://localhost:8080/",
          "height": 204
        },
        "outputId": "8636c2a1-abb7-4ea0-ae02-82b9552208b7"
      },
      "source": [
        "!wget https://archive.ics.uci.edu/ml/machine-learning-databases/adult/adult.data"
      ],
      "execution_count": 143,
      "outputs": [
        {
          "output_type": "stream",
          "text": [
            "--2020-04-12 18:32:10--  https://archive.ics.uci.edu/ml/machine-learning-databases/adult/adult.data\n",
            "Resolving archive.ics.uci.edu (archive.ics.uci.edu)... 128.195.10.252\n",
            "Connecting to archive.ics.uci.edu (archive.ics.uci.edu)|128.195.10.252|:443... connected.\n",
            "HTTP request sent, awaiting response... 200 OK\n",
            "Length: 3974305 (3.8M) [application/x-httpd-php]\n",
            "Saving to: ‘adult.data.8’\n",
            "\n",
            "adult.data.8        100%[===================>]   3.79M  13.1MB/s    in 0.3s    \n",
            "\n",
            "2020-04-12 18:32:10 (13.1 MB/s) - ‘adult.data.8’ saved [3974305/3974305]\n",
            "\n"
          ],
          "name": "stdout"
        }
      ]
    },
    {
      "cell_type": "code",
      "metadata": {
        "id": "LsFLPRflokkk",
        "colab_type": "code",
        "colab": {}
      },
      "source": [
        "from pyspark.sql.types import StructType, DoubleType, StringType, IntegerType, StructField, ArrayType\n",
        "# AdultDataSchema = StructType([\n",
        "#     StructField('age', IntegerType(), True),\n",
        "#     StructField('workclass', StringType(), True),\n",
        "#     StructField('fnlwgt', DoubleType(), True),\n",
        "#     StructField('education', StringType(), True),\n",
        "#     StructField('education-num', DoubleType(), True),\n",
        "#     StructField('marital-status', StringType(), True),\n",
        "#     StructField('occupation', StringType(), True),\n",
        "#     StructField('race', StringType(), True),\n",
        "#     StructField('sex', StringType(), True),\n",
        "#     StructField('capital-gain', DoubleType(), True),\n",
        "#     StructField('capital-loss', DoubleType(), True),\n",
        "#     StructField('hours-per-week', DoubleType(), True),\n",
        "#     StructField('native-country', StringType(), True),\n",
        "#     StructField('income', StringType(), True)\n",
        "# ])\n",
        "\n",
        "AdultDataSchema = StructType([\n",
        "    StructField('age', IntegerType(), True),\n",
        "    StructField('workclass', StringType(), True),\n",
        "    StructField('fnlwgt', DoubleType(), True),\n",
        "    StructField('education', StringType(), True),\n",
        "    StructField('education-num', DoubleType(), True),\n",
        "    StructField('marital-status', StringType(), True),\n",
        "    StructField('occupation', StringType(), True),\n",
        "    StructField('relationship', StringType(), True),\n",
        "    StructField('race', StringType(), True),\n",
        "    StructField('sex', StringType(), True),\n",
        "    StructField('capital-gain', DoubleType(), True),\n",
        "    StructField('capital-loss', DoubleType(), True),\n",
        "    StructField('hours-per-week', DoubleType(), True),\n",
        "    StructField('native-country', StringType(), True),\n",
        "    StructField('income', StringType(), True)\n",
        "])\n",
        "\n",
        "censusDF = spark.read.csv('adult.data', schema=AdultDataSchema, nullValue='NA', header=False, sep=',')\n",
        "##censusDF = spark.read.format(\"com.databricks.spark.csv\").option(\"delimiter\",\",\").option(\"quote\",\"\").option(\"header\", \"false\").schema(AdultDataSchema).load('adult.data')"
      ],
      "execution_count": 0,
      "outputs": []
    },
    {
      "cell_type": "code",
      "metadata": {
        "id": "u1j-voW-rUc3",
        "colab_type": "code",
        "colab": {
          "base_uri": "https://localhost:8080/",
          "height": 493
        },
        "outputId": "32977614-4da3-46a7-b829-76a776ff343d"
      },
      "source": [
        "censusDF.show(5)\n",
        "censusDF.printSchema()\n"
      ],
      "execution_count": 172,
      "outputs": [
        {
          "output_type": "stream",
          "text": [
            "+---+-----------------+--------+----------+-------------+-------------------+------------------+--------------+------+-------+------------+------------+--------------+--------------+------+\n",
            "|age|        workclass|  fnlwgt| education|education-num|     marital-status|        occupation|  relationship|  race|    sex|capital-gain|capital-loss|hours-per-week|native-country|income|\n",
            "+---+-----------------+--------+----------+-------------+-------------------+------------------+--------------+------+-------+------------+------------+--------------+--------------+------+\n",
            "| 39|        State-gov| 77516.0| Bachelors|         13.0|      Never-married|      Adm-clerical| Not-in-family| White|   Male|      2174.0|         0.0|          40.0| United-States| <=50K|\n",
            "| 50| Self-emp-not-inc| 83311.0| Bachelors|         13.0| Married-civ-spouse|   Exec-managerial|       Husband| White|   Male|         0.0|         0.0|          13.0| United-States| <=50K|\n",
            "| 38|          Private|215646.0|   HS-grad|          9.0|           Divorced| Handlers-cleaners| Not-in-family| White|   Male|         0.0|         0.0|          40.0| United-States| <=50K|\n",
            "| 53|          Private|234721.0|      11th|          7.0| Married-civ-spouse| Handlers-cleaners|       Husband| Black|   Male|         0.0|         0.0|          40.0| United-States| <=50K|\n",
            "| 28|          Private|338409.0| Bachelors|         13.0| Married-civ-spouse|    Prof-specialty|          Wife| Black| Female|         0.0|         0.0|          40.0|          Cuba| <=50K|\n",
            "+---+-----------------+--------+----------+-------------+-------------------+------------------+--------------+------+-------+------------+------------+--------------+--------------+------+\n",
            "only showing top 5 rows\n",
            "\n",
            "root\n",
            " |-- age: integer (nullable = true)\n",
            " |-- workclass: string (nullable = true)\n",
            " |-- fnlwgt: double (nullable = true)\n",
            " |-- education: string (nullable = true)\n",
            " |-- education-num: double (nullable = true)\n",
            " |-- marital-status: string (nullable = true)\n",
            " |-- occupation: string (nullable = true)\n",
            " |-- relationship: string (nullable = true)\n",
            " |-- race: string (nullable = true)\n",
            " |-- sex: string (nullable = true)\n",
            " |-- capital-gain: double (nullable = true)\n",
            " |-- capital-loss: double (nullable = true)\n",
            " |-- hours-per-week: double (nullable = true)\n",
            " |-- native-country: string (nullable = true)\n",
            " |-- income: string (nullable = true)\n",
            "\n"
          ],
          "name": "stdout"
        }
      ]
    },
    {
      "cell_type": "code",
      "metadata": {
        "id": "V1UcxPx4sPiC",
        "colab_type": "code",
        "colab": {
          "base_uri": "https://localhost:8080/",
          "height": 255
        },
        "outputId": "7b3cb21c-25a8-448c-ec2e-d554f3b8ffb2"
      },
      "source": [
        "censusDF.groupby('income').count().show()\n",
        "# censusDF.describe('age').show()\n",
        "censusDF.groupby('sex').mean('age').show()"
      ],
      "execution_count": 178,
      "outputs": [
        {
          "output_type": "stream",
          "text": [
            "+------+-----+\n",
            "|income|count|\n",
            "+------+-----+\n",
            "|  >50K| 7841|\n",
            "| <=50K|24720|\n",
            "+------+-----+\n",
            "\n",
            "+-------+-----------------+\n",
            "|    sex|         avg(age)|\n",
            "+-------+-----------------+\n",
            "|   Male|39.43354749885268|\n",
            "| Female|36.85823043357163|\n",
            "+-------+-----------------+\n",
            "\n"
          ],
          "name": "stdout"
        }
      ]
    }
  ]
}