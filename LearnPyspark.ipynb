{
  "nbformat": 4,
  "nbformat_minor": 0,
  "metadata": {
    "colab": {
      "name": "LearnPyspark.ipynb",
      "provenance": [],
      "collapsed_sections": [],
      "include_colab_link": true
    },
    "kernelspec": {
      "name": "python3",
      "display_name": "Python 3"
    }
  },
  "cells": [
    {
      "cell_type": "markdown",
      "metadata": {
        "id": "view-in-github",
        "colab_type": "text"
      },
      "source": [
        "<a href=\"https://colab.research.google.com/github/jimzxu/apache_ranger/blob/master/LearnPyspark.ipynb\" target=\"_parent\"><img src=\"https://colab.research.google.com/assets/colab-badge.svg\" alt=\"Open In Colab\"/></a>"
      ]
    },
    {
      "cell_type": "code",
      "metadata": {
        "id": "m8eyOVTlBu9L",
        "colab_type": "code",
        "outputId": "10986df8-9aa6-40d6-b2b0-3abe5416168d",
        "colab": {
          "base_uri": "https://localhost:8080/",
          "height": 238
        }
      },
      "source": [
        "!pip install pyspark"
      ],
      "execution_count": 1,
      "outputs": [
        {
          "output_type": "stream",
          "text": [
            "Collecting pyspark\n",
            "\u001b[?25l  Downloading https://files.pythonhosted.org/packages/9a/5a/271c416c1c2185b6cb0151b29a91fff6fcaed80173c8584ff6d20e46b465/pyspark-2.4.5.tar.gz (217.8MB)\n",
            "\u001b[K     |████████████████████████████████| 217.8MB 59kB/s \n",
            "\u001b[?25hCollecting py4j==0.10.7\n",
            "\u001b[?25l  Downloading https://files.pythonhosted.org/packages/e3/53/c737818eb9a7dc32a7cd4f1396e787bd94200c3997c72c1dbe028587bd76/py4j-0.10.7-py2.py3-none-any.whl (197kB)\n",
            "\u001b[K     |████████████████████████████████| 204kB 47.9MB/s \n",
            "\u001b[?25hBuilding wheels for collected packages: pyspark\n",
            "  Building wheel for pyspark (setup.py) ... \u001b[?25l\u001b[?25hdone\n",
            "  Created wheel for pyspark: filename=pyspark-2.4.5-py2.py3-none-any.whl size=218257927 sha256=db2b84a270cce2f51e00ae0184a2c29325923325a491e1be2a3177274787242a\n",
            "  Stored in directory: /root/.cache/pip/wheels/bf/db/04/61d66a5939364e756eb1c1be4ec5bdce6e04047fc7929a3c3c\n",
            "Successfully built pyspark\n",
            "Installing collected packages: py4j, pyspark\n",
            "Successfully installed py4j-0.10.7 pyspark-2.4.5\n"
          ],
          "name": "stdout"
        }
      ]
    },
    {
      "cell_type": "code",
      "metadata": {
        "id": "Y9cz06cxCLdr",
        "colab_type": "code",
        "colab": {}
      },
      "source": [
        "from pyspark.sql import SparkSession\n",
        "spark = SparkSession.builder \\\n",
        ".appName(\"PysparkExample1\") \\\n",
        ".config(\"spark.some.config.option\", \"some-value\") \\\n",
        ".getOrCreate()\n"
      ],
      "execution_count": 0,
      "outputs": []
    },
    {
      "cell_type": "code",
      "metadata": {
        "id": "kNC0nXP4C81H",
        "colab_type": "code",
        "colab": {}
      },
      "source": [
        "df = spark.sparkContext.parallelize([(1,2,3,'a b c'),(4,5,6,'d e f'),(7,8,9, 'g h i')]) \\\n",
        ".toDF(['col1', 'col2', 'col3', 'col4'])"
      ],
      "execution_count": 0,
      "outputs": []
    },
    {
      "cell_type": "code",
      "metadata": {
        "id": "6mt56RUFDgzW",
        "colab_type": "code",
        "outputId": "abb25566-4ab8-45a1-af69-f0c07879e5f1",
        "colab": {
          "base_uri": "https://localhost:8080/",
          "height": 153
        }
      },
      "source": [
        "df.show()"
      ],
      "execution_count": 4,
      "outputs": [
        {
          "output_type": "stream",
          "text": [
            "+----+----+----+-----+\n",
            "|col1|col2|col3| col4|\n",
            "+----+----+----+-----+\n",
            "|   1|   2|   3|a b c|\n",
            "|   4|   5|   6|d e f|\n",
            "|   7|   8|   9|g h i|\n",
            "+----+----+----+-----+\n",
            "\n"
          ],
          "name": "stdout"
        }
      ]
    },
    {
      "cell_type": "code",
      "metadata": {
        "id": "zKfqjz5e6RYT",
        "colab_type": "code",
        "outputId": "100fd579-ed0b-456f-93f6-e4546e31a026",
        "colab": {
          "base_uri": "https://localhost:8080/",
          "height": 34
        }
      },
      "source": [
        "df.columns"
      ],
      "execution_count": 5,
      "outputs": [
        {
          "output_type": "execute_result",
          "data": {
            "text/plain": [
              "['col1', 'col2', 'col3', 'col4']"
            ]
          },
          "metadata": {
            "tags": []
          },
          "execution_count": 5
        }
      ]
    },
    {
      "cell_type": "code",
      "metadata": {
        "id": "jfGsJwgKC8Nt",
        "colab_type": "code",
        "outputId": "bbb5fd29-c1c1-4cec-e233-360d8a2697c8",
        "colab": {
          "base_uri": "https://localhost:8080/",
          "height": 136
        }
      },
      "source": [
        "!ls -l sample_data/"
      ],
      "execution_count": 6,
      "outputs": [
        {
          "output_type": "stream",
          "text": [
            "total 55504\n",
            "-rwxr-xr-x 1 root root     1697 Jan  1  2000 anscombe.json\n",
            "-rw-r--r-- 1 root root   301141 Apr  3 16:24 california_housing_test.csv\n",
            "-rw-r--r-- 1 root root  1706430 Apr  3 16:24 california_housing_train.csv\n",
            "-rw-r--r-- 1 root root 18289443 Apr  3 16:24 mnist_test.csv\n",
            "-rw-r--r-- 1 root root 36523880 Apr  3 16:24 mnist_train_small.csv\n",
            "-rwxr-xr-x 1 root root      930 Jan  1  2000 README.md\n"
          ],
          "name": "stdout"
        }
      ]
    },
    {
      "cell_type": "code",
      "metadata": {
        "id": "kf2ls6nJQFYt",
        "colab_type": "code",
        "colab": {}
      },
      "source": [
        "with open('sample_data/anscombe.json', 'rt', encoding='utf-8') as f:\n",
        "  data = f.read()"
      ],
      "execution_count": 0,
      "outputs": []
    },
    {
      "cell_type": "code",
      "metadata": {
        "id": "e6a5muHmWSDa",
        "colab_type": "code",
        "colab": {}
      },
      "source": [
        "with open('sample_data/somefile.txt', 'wt', encoding='utf-8') as outfile:\n",
        "  print('Hello world!', file=outfile)"
      ],
      "execution_count": 0,
      "outputs": []
    },
    {
      "cell_type": "code",
      "metadata": {
        "id": "YmecKZUDWn5j",
        "colab_type": "code",
        "outputId": "d30a638a-fa73-4880-b03e-00b44323107f",
        "colab": {
          "base_uri": "https://localhost:8080/",
          "height": 34
        }
      },
      "source": [
        "!cat sample_data/somefile.txt"
      ],
      "execution_count": 9,
      "outputs": [
        {
          "output_type": "stream",
          "text": [
            "Hello world!\n"
          ],
          "name": "stdout"
        }
      ]
    },
    {
      "cell_type": "code",
      "metadata": {
        "id": "OyElydh2dEY7",
        "colab_type": "code",
        "colab": {}
      },
      "source": [
        "import io"
      ],
      "execution_count": 0,
      "outputs": []
    },
    {
      "cell_type": "code",
      "metadata": {
        "id": "Qcn5e9-udLDf",
        "colab_type": "code",
        "outputId": "7635c1bd-2932-4f2a-d94f-9537c76a9e8c",
        "colab": {
          "base_uri": "https://localhost:8080/",
          "height": 34
        }
      },
      "source": [
        "s = io.StringIO()\n",
        "s.write('Hello There\\n')\n",
        "print('This is a testing', file=s)\n",
        "s.getvalue()"
      ],
      "execution_count": 11,
      "outputs": [
        {
          "output_type": "execute_result",
          "data": {
            "text/plain": [
              "'Hello There\\nThis is a testing\\n'"
            ]
          },
          "metadata": {
            "tags": []
          },
          "execution_count": 11
        }
      ]
    },
    {
      "cell_type": "code",
      "metadata": {
        "id": "bzK6dFKod2fR",
        "colab_type": "code",
        "colab": {}
      },
      "source": [
        "import gzip"
      ],
      "execution_count": 0,
      "outputs": []
    },
    {
      "cell_type": "code",
      "metadata": {
        "id": "fjxi6Hbrd78_",
        "colab_type": "code",
        "outputId": "8eb513a9-2825-45dd-a4cd-25b2db02b4b1",
        "colab": {
          "base_uri": "https://localhost:8080/",
          "height": 34
        }
      },
      "source": [
        "!mkdir sample\n",
        "with gzip.open('sample/somefile.gz', 'wt') as zipf:\n",
        "  zipf.write('some data in zip file')\n",
        "!zcat sample/somefile.gz"
      ],
      "execution_count": 13,
      "outputs": [
        {
          "output_type": "stream",
          "text": [
            "some data in zip file"
          ],
          "name": "stdout"
        }
      ]
    },
    {
      "cell_type": "code",
      "metadata": {
        "id": "hSQsxPlKj59E",
        "colab_type": "code",
        "colab": {}
      },
      "source": [
        "import os"
      ],
      "execution_count": 0,
      "outputs": []
    },
    {
      "cell_type": "code",
      "metadata": {
        "id": "XxdE0b73j8p4",
        "colab_type": "code",
        "outputId": "0084ce81-b090-47ef-b04c-b6f785499635",
        "colab": {
          "base_uri": "https://localhost:8080/",
          "height": 34
        }
      },
      "source": [
        "path = '/content/sample/data/data.csv'\n",
        "os.path.basename(path)\n",
        "os.path.dirname(path)\n",
        "os.path.join('tmp','data', os.path.basename(path))\n",
        "os.path.splitext(path)\n",
        "os.path.split(path)"
      ],
      "execution_count": 15,
      "outputs": [
        {
          "output_type": "execute_result",
          "data": {
            "text/plain": [
              "('/content/sample/data', 'data.csv')"
            ]
          },
          "metadata": {
            "tags": []
          },
          "execution_count": 15
        }
      ]
    },
    {
      "cell_type": "code",
      "metadata": {
        "id": "Or0p4ovrmFUA",
        "colab_type": "code",
        "colab": {
          "base_uri": "https://localhost:8080/",
          "height": 34
        },
        "outputId": "077d27c6-9623-4c58-82f9-79d3b39a84fd"
      },
      "source": [
        "os.path.exists('/content/')\n",
        "os.path.isfile('/content/sample/somefile.gz')\n",
        "os.listdir('/content/sample/')"
      ],
      "execution_count": 16,
      "outputs": [
        {
          "output_type": "execute_result",
          "data": {
            "text/plain": [
              "['somefile.gz']"
            ]
          },
          "metadata": {
            "tags": []
          },
          "execution_count": 16
        }
      ]
    },
    {
      "cell_type": "code",
      "metadata": {
        "id": "-DxCJAH2o2Z2",
        "colab_type": "code",
        "colab": {}
      },
      "source": [
        "import pickle\n",
        "import json"
      ],
      "execution_count": 0,
      "outputs": []
    },
    {
      "cell_type": "code",
      "metadata": {
        "id": "n42AJ-jko5r0",
        "colab_type": "code",
        "colab": {
          "base_uri": "https://localhost:8080/",
          "height": 51
        },
        "outputId": "fc3b7c47-d2a5-4f27-d48e-387b41b763d5"
      },
      "source": [
        "data = {'key1':'value1', 'key2':'value2'}\n",
        "with open('sample/s1.data','wb') as bfile:\n",
        "  pickle.dump(data, bfile)\n",
        "\n",
        "with open('sample/s2.json', 'wt') as jsonfile:\n",
        "  json.dump(data, jsonfile)\n",
        "!ls sample/\n",
        "!cat sample/s2.json"
      ],
      "execution_count": 18,
      "outputs": [
        {
          "output_type": "stream",
          "text": [
            "s1.data  s2.json  somefile.gz\n",
            "{\"key1\": \"value1\", \"key2\": \"value2\"}"
          ],
          "name": "stdout"
        }
      ]
    },
    {
      "cell_type": "code",
      "metadata": {
        "id": "_5sjHJEwyg4s",
        "colab_type": "code",
        "colab": {}
      },
      "source": [
        "import re"
      ],
      "execution_count": 0,
      "outputs": []
    },
    {
      "cell_type": "code",
      "metadata": {
        "id": "EOcVo5mZyjC6",
        "colab_type": "code",
        "outputId": "69b0f311-8b80-49cf-82de-9e0f121d0526",
        "colab": {
          "base_uri": "https://localhost:8080/",
          "height": 68
        }
      },
      "source": [
        "line = 'asdf fjdk;  afed, fjek,asdf,      fdah'\n",
        "line_contents = re.split(r'[;,\\s]\\s*', line) \n",
        "fields = re.split(r'(,|;|\\s)\\s*', line)\n",
        "values = fields[::2]\n",
        "delimiters = fields[1::2]+['']\n",
        "joined_fields = ''.join(v+d for v,d in zip(fields, delimiters))\n",
        "text1 = '11/27/2012'\n",
        "text2 = 'Nov 27, 2012'\n",
        "if re.match(r'\\d+/\\d+/\\d+', text1):\n",
        "  print('yes')\n",
        "else:\n",
        "  print('no')\n",
        "datepat = re.compile(r'\\d+/\\d+/\\d+')\n",
        "if datepat.match(text1):\n",
        "  print('yes')\n",
        "else:\n",
        "  print('no')\n",
        "datepat.findall(text1)\n",
        "datepatm = re.compile(r'(\\d+)/(\\d+)/(\\d+)')\n",
        "m = datepatm.match('11/27/2012')\n",
        "m.group(0)\n",
        "m.group(1)\n",
        "m.group(2)\n",
        "m.group(3)\n",
        "m.groups()"
      ],
      "execution_count": 20,
      "outputs": [
        {
          "output_type": "stream",
          "text": [
            "yes\n",
            "yes\n"
          ],
          "name": "stdout"
        },
        {
          "output_type": "execute_result",
          "data": {
            "text/plain": [
              "('11', '27', '2012')"
            ]
          },
          "metadata": {
            "tags": []
          },
          "execution_count": 20
        }
      ]
    },
    {
      "cell_type": "code",
      "metadata": {
        "id": "2odHHo_VymMr",
        "colab_type": "code",
        "outputId": "a1b3c02b-de97-479f-970f-46053912e452",
        "colab": {
          "base_uri": "https://localhost:8080/",
          "height": 34
        }
      },
      "source": [
        "filenames = os.listdir('sample/')\n",
        "any(name.endswith('json') for name in filenames)\n"
      ],
      "execution_count": 21,
      "outputs": [
        {
          "output_type": "execute_result",
          "data": {
            "text/plain": [
              "True"
            ]
          },
          "metadata": {
            "tags": []
          },
          "execution_count": 21
        }
      ]
    },
    {
      "cell_type": "code",
      "metadata": {
        "id": "EPlTKogKCduR",
        "colab_type": "code",
        "outputId": "f3ba2e8f-8102-46a0-a335-f63ab6989298",
        "colab": {
          "base_uri": "https://localhost:8080/",
          "height": 34
        }
      },
      "source": [
        "from fnmatch import fnmatch, fnmatchcase\n",
        "fnmatch('foo.txt', '*.txt')\n",
        "fnmatch('foo.txt', '?oo.txt')"
      ],
      "execution_count": 22,
      "outputs": [
        {
          "output_type": "execute_result",
          "data": {
            "text/plain": [
              "True"
            ]
          },
          "metadata": {
            "tags": []
          },
          "execution_count": 22
        }
      ]
    },
    {
      "cell_type": "code",
      "metadata": {
        "id": "uHL8jS9KF_mx",
        "colab_type": "code",
        "outputId": "388fa155-fe4e-4796-8e23-538d5e8f5d05",
        "colab": {
          "base_uri": "https://localhost:8080/",
          "height": 34
        }
      },
      "source": [
        "text = 'yeah, but no, but yeah, but no, but yeah'\n",
        "text.find('no')\n"
      ],
      "execution_count": 23,
      "outputs": [
        {
          "output_type": "execute_result",
          "data": {
            "text/plain": [
              "10"
            ]
          },
          "metadata": {
            "tags": []
          },
          "execution_count": 23
        }
      ]
    },
    {
      "cell_type": "code",
      "metadata": {
        "id": "NF7lm_u7OIp7",
        "colab_type": "code",
        "outputId": "dd252648-0e0e-4d94-e70f-72706cda24e8",
        "colab": {
          "base_uri": "https://localhost:8080/",
          "height": 34
        }
      },
      "source": [
        "text = 'UPPER PYTHON, lower python, Mixed Python'\n",
        "re.findall('python', text, flags=re.IGNORECASE)\n",
        "re.sub('python', 'snake', text, flags=re.IGNORECASE)"
      ],
      "execution_count": 24,
      "outputs": [
        {
          "output_type": "execute_result",
          "data": {
            "text/plain": [
              "'UPPER snake, lower snake, Mixed snake'"
            ]
          },
          "metadata": {
            "tags": []
          },
          "execution_count": 24
        }
      ]
    },
    {
      "cell_type": "code",
      "metadata": {
        "id": "nyQsAKMCRp-h",
        "colab_type": "code",
        "outputId": "3946f994-7e45-44aa-89f5-890cebcbf971",
        "colab": {
          "base_uri": "https://localhost:8080/",
          "height": 34
        }
      },
      "source": [
        "s = '   hello world   \\n'\n",
        "s.strip()\n",
        "s.lstrip()\n",
        "s.rstrip()\n",
        "re.sub('\\s+', ' ', s)\n",
        "print('a', 'b', 'c', sep=':')"
      ],
      "execution_count": 25,
      "outputs": [
        {
          "output_type": "stream",
          "text": [
            "a:b:c\n"
          ],
          "name": "stdout"
        }
      ]
    },
    {
      "cell_type": "code",
      "metadata": {
        "id": "SLL4iPfwTexv",
        "colab_type": "code",
        "colab": {}
      },
      "source": [
        ""
      ],
      "execution_count": 0,
      "outputs": []
    },
    {
      "cell_type": "markdown",
      "metadata": {
        "id": "X5f3VSI-oeTP",
        "colab_type": "text"
      },
      "source": [
        "Pyspark Receipts\n",
        "\n",
        "https://kontext.tech/column/spark/316/pyspark-convert-python-arraylist-to-spark-data-frame"
      ]
    },
    {
      "cell_type": "code",
      "metadata": {
        "id": "v9LKWWVorO6T",
        "colab_type": "code",
        "colab": {
          "base_uri": "https://localhost:8080/",
          "height": 204
        },
        "outputId": "3ec694c0-40bc-4546-d450-da69325f15e8"
      },
      "source": [
        "!wget https://archive.ics.uci.edu/ml/machine-learning-databases/adult/adult.data"
      ],
      "execution_count": 35,
      "outputs": [
        {
          "output_type": "stream",
          "text": [
            "--2020-04-12 14:05:33--  https://archive.ics.uci.edu/ml/machine-learning-databases/adult/adult.data\n",
            "Resolving archive.ics.uci.edu (archive.ics.uci.edu)... 128.195.10.252\n",
            "Connecting to archive.ics.uci.edu (archive.ics.uci.edu)|128.195.10.252|:443... connected.\n",
            "HTTP request sent, awaiting response... 200 OK\n",
            "Length: 3974305 (3.8M) [application/x-httpd-php]\n",
            "Saving to: ‘adult.data.7’\n",
            "\n",
            "adult.data.7        100%[===================>]   3.79M  12.7MB/s    in 0.3s    \n",
            "\n",
            "2020-04-12 14:05:34 (12.7 MB/s) - ‘adult.data.7’ saved [3974305/3974305]\n",
            "\n"
          ],
          "name": "stdout"
        }
      ]
    },
    {
      "cell_type": "code",
      "metadata": {
        "id": "LsFLPRflokkk",
        "colab_type": "code",
        "colab": {}
      },
      "source": [
        "from pyspark.sql.types import StructType, DoubleType, StringType, IntegerType, StructField, ArrayType\n",
        "# AdultDataSchema = StructType([\n",
        "#     StructField('age', IntegerType(), True),\n",
        "#     StructField('workclass', StringType(), True),\n",
        "#     StructField('fnlwgt', DoubleType(), True),\n",
        "#     StructField('education', StringType(), True),\n",
        "#     StructField('education-num', DoubleType(), True),\n",
        "#     StructField('marital-status', StringType(), True),\n",
        "#     StructField('occupation', StringType(), True),\n",
        "#     StructField('race', StringType(), True),\n",
        "#     StructField('sex', StringType(), True),\n",
        "#     StructField('capital-gain', DoubleType(), True),\n",
        "#     StructField('capital-loss', DoubleType(), True),\n",
        "#     StructField('hours-per-week', DoubleType(), True),\n",
        "#     StructField('native-country', StringType(), True),\n",
        "#     StructField('income', StringType(), True)\n",
        "# ])\n",
        "\n",
        "AdultDataSchema = StructType([\n",
        "    StructField('age', IntegerType(), True),\n",
        "    StructField('workclass', StringType(), True),\n",
        "    StructField('fnlwgt', DoubleType(), True),\n",
        "    StructField('education', StringType(), True),\n",
        "    StructField('education-num', DoubleType(), True),\n",
        "    StructField('marital-status', StringType(), True),\n",
        "    StructField('occupation', StringType(), True),\n",
        "    StructField('race', StringType(), True),\n",
        "    StructField('sex', StringType(), True),\n",
        "    StructField('capital-gain', StringType(), True),\n",
        "    StructField('capital-loss', StringType(), True),\n",
        "    StructField('hours-per-week', StringType(), True),\n",
        "    StructField('native-country', StringType(), True),\n",
        "    StructField('income', StringType(), True)\n",
        "])\n",
        "\n",
        "censusDF = spark.read.csv('adult.data', schema=AdultDataSchema, nullValue='NA', header=True, sep=',')\n",
        "##censusDF = spark.read.format(\"com.databricks.spark.csv\").option(\"delimiter\",\",\").option(\"quote\",\"\").option(\"header\", \"false\").schema(AdultDataSchema).load('adult.data')"
      ],
      "execution_count": 0,
      "outputs": []
    },
    {
      "cell_type": "code",
      "metadata": {
        "id": "u1j-voW-rUc3",
        "colab_type": "code",
        "colab": {
          "base_uri": "https://localhost:8080/",
          "height": 496
        },
        "outputId": "a9ca7448-0b55-414e-dd73-49ead0ea3aa9"
      },
      "source": [
        "censusDF.show(5)\n",
        "censusDF.printSchema()\n"
      ],
      "execution_count": 115,
      "outputs": [
        {
          "output_type": "stream",
          "text": [
            "+---+-----------------+--------+----------+-------------+-------------------+------------------+--------------+------+------------+------------+--------------+--------------+--------------+\n",
            "|age|        workclass|  fnlwgt| education|education-num|     marital-status|        occupation|          race|   sex|capital-gain|capital-loss|hours-per-week|native-country|        income|\n",
            "+---+-----------------+--------+----------+-------------+-------------------+------------------+--------------+------+------------+------------+--------------+--------------+--------------+\n",
            "| 50| Self-emp-not-inc| 83311.0| Bachelors|         13.0| Married-civ-spouse|   Exec-managerial|       Husband| White|        Male|           0|             0|            13| United-States|\n",
            "| 38|          Private|215646.0|   HS-grad|          9.0|           Divorced| Handlers-cleaners| Not-in-family| White|        Male|           0|             0|            40| United-States|\n",
            "| 53|          Private|234721.0|      11th|          7.0| Married-civ-spouse| Handlers-cleaners|       Husband| Black|        Male|           0|             0|            40| United-States|\n",
            "| 28|          Private|338409.0| Bachelors|         13.0| Married-civ-spouse|    Prof-specialty|          Wife| Black|      Female|           0|             0|            40|          Cuba|\n",
            "| 37|          Private|284582.0|   Masters|         14.0| Married-civ-spouse|   Exec-managerial|          Wife| White|      Female|           0|             0|            40| United-States|\n",
            "+---+-----------------+--------+----------+-------------+-------------------+------------------+--------------+------+------------+------------+--------------+--------------+--------------+\n",
            "only showing top 5 rows\n",
            "\n",
            "root\n",
            " |-- age: integer (nullable = true)\n",
            " |-- workclass: string (nullable = true)\n",
            " |-- fnlwgt: double (nullable = true)\n",
            " |-- education: string (nullable = true)\n",
            " |-- education-num: double (nullable = true)\n",
            " |-- marital-status: string (nullable = true)\n",
            " |-- occupation: string (nullable = true)\n",
            " |-- race: string (nullable = true)\n",
            " |-- sex: string (nullable = true)\n",
            " |-- capital-gain: string (nullable = true)\n",
            " |-- capital-loss: string (nullable = true)\n",
            " |-- hours-per-week: string (nullable = true)\n",
            " |-- native-country: string (nullable = true)\n",
            " |-- income: string (nullable = true)\n",
            "\n"
          ],
          "name": "stdout"
        }
      ]
    }
  ]
}