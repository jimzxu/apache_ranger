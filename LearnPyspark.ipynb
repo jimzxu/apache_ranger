{
  "nbformat": 4,
  "nbformat_minor": 0,
  "metadata": {
    "colab": {
      "name": "LearnPyspark.ipynb",
      "provenance": [],
      "collapsed_sections": [],
      "authorship_tag": "ABX9TyMf9vYM6YTxyWTMQvo1hNX/",
      "include_colab_link": true
    },
    "kernelspec": {
      "name": "python3",
      "display_name": "Python 3"
    }
  },
  "cells": [
    {
      "cell_type": "markdown",
      "metadata": {
        "id": "view-in-github",
        "colab_type": "text"
      },
      "source": [
        "<a href=\"https://colab.research.google.com/github/jimzxu/apache_ranger/blob/master/LearnPyspark.ipynb\" target=\"_parent\"><img src=\"https://colab.research.google.com/assets/colab-badge.svg\" alt=\"Open In Colab\"/></a>"
      ]
    },
    {
      "cell_type": "code",
      "metadata": {
        "id": "m8eyOVTlBu9L",
        "colab_type": "code",
        "outputId": "04ad3aca-a544-4809-b62e-1550b7288431",
        "colab": {
          "base_uri": "https://localhost:8080/",
          "height": 258
        }
      },
      "source": [
        "!pip install pyspark"
      ],
      "execution_count": 0,
      "outputs": [
        {
          "output_type": "stream",
          "text": [
            "Collecting pyspark\n",
            "\u001b[?25l  Downloading https://files.pythonhosted.org/packages/9a/5a/271c416c1c2185b6cb0151b29a91fff6fcaed80173c8584ff6d20e46b465/pyspark-2.4.5.tar.gz (217.8MB)\n",
            "\u001b[K     |████████████████████████████████| 217.8MB 64kB/s \n",
            "\u001b[?25hCollecting py4j==0.10.7\n",
            "\u001b[?25l  Downloading https://files.pythonhosted.org/packages/e3/53/c737818eb9a7dc32a7cd4f1396e787bd94200c3997c72c1dbe028587bd76/py4j-0.10.7-py2.py3-none-any.whl (197kB)\n",
            "\u001b[K     |████████████████████████████████| 204kB 47.7MB/s \n",
            "\u001b[?25hBuilding wheels for collected packages: pyspark\n",
            "  Building wheel for pyspark (setup.py) ... \u001b[?25l\u001b[?25hdone\n",
            "  Created wheel for pyspark: filename=pyspark-2.4.5-py2.py3-none-any.whl size=218257927 sha256=db9e8a56bb4efda98d0750b03ea097d4fc99219405f4a21d0952ebdabe0dac70\n",
            "  Stored in directory: /root/.cache/pip/wheels/bf/db/04/61d66a5939364e756eb1c1be4ec5bdce6e04047fc7929a3c3c\n",
            "Successfully built pyspark\n",
            "Installing collected packages: py4j, pyspark\n",
            "Successfully installed py4j-0.10.7 pyspark-2.4.5\n"
          ],
          "name": "stdout"
        }
      ]
    },
    {
      "cell_type": "code",
      "metadata": {
        "id": "Y9cz06cxCLdr",
        "colab_type": "code",
        "colab": {}
      },
      "source": [
        "from pyspark.sql import SparkSession\n",
        "spark = SparkSession.builder \\\n",
        ".appName(\"PysparkExample1\") \\\n",
        ".config(\"spark.some.config.option\", \"some-value\") \\\n",
        ".getOrCreate()\n"
      ],
      "execution_count": 0,
      "outputs": []
    },
    {
      "cell_type": "code",
      "metadata": {
        "id": "kNC0nXP4C81H",
        "colab_type": "code",
        "colab": {}
      },
      "source": [
        "df = spark.sparkContext.parallelize([(1,2,3,'a b c'),(4,5,6,'d e f'),(7,8,9, 'g h i')]) \\\n",
        ".toDF(['col1', 'col2', 'col3', 'col4'])"
      ],
      "execution_count": 0,
      "outputs": []
    },
    {
      "cell_type": "code",
      "metadata": {
        "id": "6mt56RUFDgzW",
        "colab_type": "code",
        "outputId": "bd98b2a1-2277-4c33-ea5e-f725c51e19cc",
        "colab": {
          "base_uri": "https://localhost:8080/",
          "height": 153
        }
      },
      "source": [
        "df.show()"
      ],
      "execution_count": 0,
      "outputs": [
        {
          "output_type": "stream",
          "text": [
            "+----+----+----+-----+\n",
            "|col1|col2|col3| col4|\n",
            "+----+----+----+-----+\n",
            "|   1|   2|   3|a b c|\n",
            "|   4|   5|   6|d e f|\n",
            "|   7|   8|   9|g h i|\n",
            "+----+----+----+-----+\n",
            "\n"
          ],
          "name": "stdout"
        }
      ]
    },
    {
      "cell_type": "code",
      "metadata": {
        "id": "zKfqjz5e6RYT",
        "colab_type": "code",
        "outputId": "164a5dcf-14f3-4128-fbc6-c3ffe3362a43",
        "colab": {
          "base_uri": "https://localhost:8080/",
          "height": 34
        }
      },
      "source": [
        "df.columns"
      ],
      "execution_count": 0,
      "outputs": [
        {
          "output_type": "execute_result",
          "data": {
            "text/plain": [
              "['col1', 'col2', 'col3', 'col4']"
            ]
          },
          "metadata": {
            "tags": []
          },
          "execution_count": 6
        }
      ]
    },
    {
      "cell_type": "code",
      "metadata": {
        "id": "jfGsJwgKC8Nt",
        "colab_type": "code",
        "outputId": "1fd7c71a-af53-4426-d805-5302a262164e",
        "colab": {
          "base_uri": "https://localhost:8080/",
          "height": 136
        }
      },
      "source": [
        "!ls -l sample_data/"
      ],
      "execution_count": 0,
      "outputs": [
        {
          "output_type": "stream",
          "text": [
            "total 55504\n",
            "-rwxr-xr-x 1 root root     1697 Jan  1  2000 anscombe.json\n",
            "-rw-r--r-- 1 root root   301141 Mar 18 16:23 california_housing_test.csv\n",
            "-rw-r--r-- 1 root root  1706430 Mar 18 16:23 california_housing_train.csv\n",
            "-rw-r--r-- 1 root root 18289443 Mar 18 16:23 mnist_test.csv\n",
            "-rw-r--r-- 1 root root 36523880 Mar 18 16:23 mnist_train_small.csv\n",
            "-rwxr-xr-x 1 root root      930 Jan  1  2000 README.md\n"
          ],
          "name": "stdout"
        }
      ]
    },
    {
      "cell_type": "code",
      "metadata": {
        "id": "kf2ls6nJQFYt",
        "colab_type": "code",
        "colab": {}
      },
      "source": [
        "with open('sample_data/anscombe.json', 'rt', encoding='utf-8') as f:\n",
        "  data = f.read()"
      ],
      "execution_count": 0,
      "outputs": []
    },
    {
      "cell_type": "code",
      "metadata": {
        "id": "e6a5muHmWSDa",
        "colab_type": "code",
        "colab": {}
      },
      "source": [
        "with open('sample_data/somefile.txt', 'wt', encoding='utf-8') as outfile:\n",
        "  print('Hello world!', file=outfile)"
      ],
      "execution_count": 0,
      "outputs": []
    },
    {
      "cell_type": "code",
      "metadata": {
        "id": "YmecKZUDWn5j",
        "colab_type": "code",
        "outputId": "2c2527a1-21e6-4770-8df2-970ed024d90d",
        "colab": {
          "base_uri": "https://localhost:8080/",
          "height": 34
        }
      },
      "source": [
        "!cat sample_data/somefile.txt"
      ],
      "execution_count": 0,
      "outputs": [
        {
          "output_type": "stream",
          "text": [
            "Hello world!\n"
          ],
          "name": "stdout"
        }
      ]
    },
    {
      "cell_type": "code",
      "metadata": {
        "id": "OyElydh2dEY7",
        "colab_type": "code",
        "colab": {}
      },
      "source": [
        "import io"
      ],
      "execution_count": 0,
      "outputs": []
    },
    {
      "cell_type": "code",
      "metadata": {
        "id": "Qcn5e9-udLDf",
        "colab_type": "code",
        "outputId": "1f3c0340-48f5-44d6-cc02-e02d19522da9",
        "colab": {
          "base_uri": "https://localhost:8080/",
          "height": 34
        }
      },
      "source": [
        "s = io.StringIO()\n",
        "s.write('Hello There\\n')\n",
        "print('This is a testing', file=s)\n",
        "s.getvalue()"
      ],
      "execution_count": 0,
      "outputs": [
        {
          "output_type": "execute_result",
          "data": {
            "text/plain": [
              "'Hello There\\nThis is a testing\\n'"
            ]
          },
          "metadata": {
            "tags": []
          },
          "execution_count": 12
        }
      ]
    },
    {
      "cell_type": "code",
      "metadata": {
        "id": "bzK6dFKod2fR",
        "colab_type": "code",
        "colab": {}
      },
      "source": [
        "import gzip"
      ],
      "execution_count": 0,
      "outputs": []
    },
    {
      "cell_type": "code",
      "metadata": {
        "id": "fjxi6Hbrd78_",
        "colab_type": "code",
        "outputId": "f5ca4bf1-ee9d-4a0e-b632-bf1c144632e6",
        "colab": {
          "base_uri": "https://localhost:8080/",
          "height": 34
        }
      },
      "source": [
        "!mkdir sample\n",
        "with gzip.open('sample/somefile.gz', 'wt') as zipf:\n",
        "  zipf.write('some data in zip file')\n",
        "!zcat sample/somefile.gz"
      ],
      "execution_count": 0,
      "outputs": [
        {
          "output_type": "stream",
          "text": [
            "some data in zip file"
          ],
          "name": "stdout"
        }
      ]
    },
    {
      "cell_type": "code",
      "metadata": {
        "id": "hSQsxPlKj59E",
        "colab_type": "code",
        "colab": {}
      },
      "source": [
        "import os"
      ],
      "execution_count": 0,
      "outputs": []
    },
    {
      "cell_type": "code",
      "metadata": {
        "id": "XxdE0b73j8p4",
        "colab_type": "code",
        "outputId": "545f9deb-0b37-4ae1-b536-27fe23c49b58",
        "colab": {
          "base_uri": "https://localhost:8080/",
          "height": 252
        }
      },
      "source": [
        "path = '/content/sample/data/data.csv'\n",
        "os.path.basename(path)\n",
        "os.path.dirname(path)\n",
        "os.path.join('tmp','data', os.path.basename(path))\n",
        "os.path.splitext(path)\n",
        "os.path.split(path)"
      ],
      "execution_count": 0,
      "outputs": [
        {
          "output_type": "error",
          "ename": "NameError",
          "evalue": "ignored",
          "traceback": [
            "\u001b[0;31m---------------------------------------------------------------------------\u001b[0m",
            "\u001b[0;31mNameError\u001b[0m                                 Traceback (most recent call last)",
            "\u001b[0;32m<ipython-input-17-bb75f6622822>\u001b[0m in \u001b[0;36m<module>\u001b[0;34m()\u001b[0m\n\u001b[1;32m      1\u001b[0m \u001b[0mpath\u001b[0m \u001b[0;34m=\u001b[0m \u001b[0;34m'/content/sample/data/data.csv'\u001b[0m\u001b[0;34m\u001b[0m\u001b[0;34m\u001b[0m\u001b[0m\n\u001b[0;32m----> 2\u001b[0;31m \u001b[0mos\u001b[0m\u001b[0;34m.\u001b[0m\u001b[0mpath\u001b[0m\u001b[0;34m.\u001b[0m\u001b[0mbasename\u001b[0m\u001b[0;34m(\u001b[0m\u001b[0mpath\u001b[0m\u001b[0;34m)\u001b[0m\u001b[0;34m\u001b[0m\u001b[0;34m\u001b[0m\u001b[0m\n\u001b[0m\u001b[1;32m      3\u001b[0m \u001b[0mos\u001b[0m\u001b[0;34m.\u001b[0m\u001b[0mpath\u001b[0m\u001b[0;34m.\u001b[0m\u001b[0mdirname\u001b[0m\u001b[0;34m(\u001b[0m\u001b[0mpath\u001b[0m\u001b[0;34m)\u001b[0m\u001b[0;34m\u001b[0m\u001b[0;34m\u001b[0m\u001b[0m\n\u001b[1;32m      4\u001b[0m \u001b[0mos\u001b[0m\u001b[0;34m.\u001b[0m\u001b[0mpath\u001b[0m\u001b[0;34m.\u001b[0m\u001b[0mjoin\u001b[0m\u001b[0;34m(\u001b[0m\u001b[0;34m'tmp'\u001b[0m\u001b[0;34m,\u001b[0m\u001b[0;34m'data'\u001b[0m\u001b[0;34m,\u001b[0m \u001b[0mos\u001b[0m\u001b[0;34m.\u001b[0m\u001b[0mpath\u001b[0m\u001b[0;34m.\u001b[0m\u001b[0mbasename\u001b[0m\u001b[0;34m(\u001b[0m\u001b[0mpath\u001b[0m\u001b[0;34m)\u001b[0m\u001b[0;34m)\u001b[0m\u001b[0;34m\u001b[0m\u001b[0;34m\u001b[0m\u001b[0m\n\u001b[1;32m      5\u001b[0m \u001b[0mos\u001b[0m\u001b[0;34m.\u001b[0m\u001b[0mpath\u001b[0m\u001b[0;34m.\u001b[0m\u001b[0msplitext\u001b[0m\u001b[0;34m(\u001b[0m\u001b[0mpath\u001b[0m\u001b[0;34m)\u001b[0m\u001b[0;34m\u001b[0m\u001b[0;34m\u001b[0m\u001b[0m\n",
            "\u001b[0;31mNameError\u001b[0m: name 'os' is not defined"
          ]
        }
      ]
    },
    {
      "cell_type": "code",
      "metadata": {
        "id": "Or0p4ovrmFUA",
        "colab_type": "code",
        "colab": {}
      },
      "source": [
        "os.path.exists('/content/')\n",
        "os.path.isfile('/content/sample/somefile.gz')\n",
        "os.listdir('/content/sample/')"
      ],
      "execution_count": 0,
      "outputs": []
    },
    {
      "cell_type": "code",
      "metadata": {
        "id": "-DxCJAH2o2Z2",
        "colab_type": "code",
        "colab": {}
      },
      "source": [
        "import pickle\n",
        "import json"
      ],
      "execution_count": 0,
      "outputs": []
    },
    {
      "cell_type": "code",
      "metadata": {
        "id": "n42AJ-jko5r0",
        "colab_type": "code",
        "colab": {}
      },
      "source": [
        "data = {'key1':'value1', 'key2':'value2'}\n",
        "with open('sample/s1.data','wb') as bfile:\n",
        "  pickle.dump(data, bfile)\n",
        "\n",
        "with open('sample/s2.json', 'wt') as jsonfile:\n",
        "  json.dump(data, jsonfile)\n",
        "!ls sample/\n",
        "!cat sample/s2.json"
      ],
      "execution_count": 0,
      "outputs": []
    },
    {
      "cell_type": "code",
      "metadata": {
        "id": "_5sjHJEwyg4s",
        "colab_type": "code",
        "colab": {}
      },
      "source": [
        "import re"
      ],
      "execution_count": 0,
      "outputs": []
    },
    {
      "cell_type": "code",
      "metadata": {
        "id": "EOcVo5mZyjC6",
        "colab_type": "code",
        "outputId": "a1d00f5f-9ea5-4829-96a8-ad96f52fff0f",
        "colab": {
          "base_uri": "https://localhost:8080/",
          "height": 68
        }
      },
      "source": [
        "line = 'asdf fjdk;  afed, fjek,asdf,      fdah'\n",
        "line_contents = re.split(r'[;,\\s]\\s*', line) \n",
        "fields = re.split(r'(,|;|\\s)\\s*', line)\n",
        "values = fields[::2]\n",
        "delimiters = fields[1::2]+['']\n",
        "joined_fields = ''.join(v+d for v,d in zip(fields, delimiters))\n",
        "text1 = '11/27/2012'\n",
        "text2 = 'Nov 27, 2012'\n",
        "if re.match(r'\\d+/\\d+/\\d+', text1):\n",
        "  print('yes')\n",
        "else:\n",
        "  print('no')\n",
        "datepat = re.compile(r'\\d+/\\d+/\\d+')\n",
        "if datepat.match(text1):\n",
        "  print('yes')\n",
        "else:\n",
        "  print('no')\n",
        "datepat.findall(text1)\n",
        "datepatm = re.compile(r'(\\d+)/(\\d+)/(\\d+)')\n",
        "m = datepatm.match('11/27/2012')\n",
        "m.group(0)\n",
        "m.group(1)\n",
        "m.group(2)\n",
        "m.group(3)\n",
        "m.groups()"
      ],
      "execution_count": 0,
      "outputs": [
        {
          "output_type": "stream",
          "text": [
            "yes\n",
            "yes\n"
          ],
          "name": "stdout"
        },
        {
          "output_type": "execute_result",
          "data": {
            "text/plain": [
              "('11', '27', '2012')"
            ]
          },
          "metadata": {
            "tags": []
          },
          "execution_count": 20
        }
      ]
    },
    {
      "cell_type": "code",
      "metadata": {
        "id": "2odHHo_VymMr",
        "colab_type": "code",
        "outputId": "8f45da92-0d4e-4b9f-b44a-fe9a622f304b",
        "colab": {
          "base_uri": "https://localhost:8080/",
          "height": 34
        }
      },
      "source": [
        "filenames = os.listdir('sample/')\n",
        "any(name.endswith('json') for name in filenames)\n"
      ],
      "execution_count": 0,
      "outputs": [
        {
          "output_type": "execute_result",
          "data": {
            "text/plain": [
              "False"
            ]
          },
          "metadata": {
            "tags": []
          },
          "execution_count": 21
        }
      ]
    },
    {
      "cell_type": "code",
      "metadata": {
        "id": "EPlTKogKCduR",
        "colab_type": "code",
        "outputId": "0895b2a1-12ac-4e4c-bbc1-19fc32c2099f",
        "colab": {
          "base_uri": "https://localhost:8080/",
          "height": 34
        }
      },
      "source": [
        "from fnmatch import fnmatch, fnmatchcase\n",
        "fnmatch('foo.txt', '*.txt')\n",
        "fnmatch('foo.txt', '?oo.txt')"
      ],
      "execution_count": 0,
      "outputs": [
        {
          "output_type": "execute_result",
          "data": {
            "text/plain": [
              "True"
            ]
          },
          "metadata": {
            "tags": []
          },
          "execution_count": 22
        }
      ]
    },
    {
      "cell_type": "code",
      "metadata": {
        "id": "uHL8jS9KF_mx",
        "colab_type": "code",
        "outputId": "91006f39-d91c-4852-b520-da82402bdfff",
        "colab": {
          "base_uri": "https://localhost:8080/",
          "height": 34
        }
      },
      "source": [
        "text = 'yeah, but no, but yeah, but no, but yeah'\n",
        "text.find('no')\n"
      ],
      "execution_count": 0,
      "outputs": [
        {
          "output_type": "execute_result",
          "data": {
            "text/plain": [
              "10"
            ]
          },
          "metadata": {
            "tags": []
          },
          "execution_count": 24
        }
      ]
    },
    {
      "cell_type": "code",
      "metadata": {
        "id": "NF7lm_u7OIp7",
        "colab_type": "code",
        "outputId": "bca9af43-c63e-4445-fbd9-0d19f588c862",
        "colab": {
          "base_uri": "https://localhost:8080/",
          "height": 34
        }
      },
      "source": [
        "text = 'UPPER PYTHON, lower python, Mixed Python'\n",
        "re.findall('python', text, flags=re.IGNORECASE)\n",
        "re.sub('python', 'snake', text, flags=re.IGNORECASE)"
      ],
      "execution_count": 0,
      "outputs": [
        {
          "output_type": "execute_result",
          "data": {
            "text/plain": [
              "'UPPER snake, lower snake, Mixed snake'"
            ]
          },
          "metadata": {
            "tags": []
          },
          "execution_count": 26
        }
      ]
    },
    {
      "cell_type": "code",
      "metadata": {
        "id": "nyQsAKMCRp-h",
        "colab_type": "code",
        "outputId": "7d493b2b-966a-46c8-b703-c59cae9c0542",
        "colab": {
          "base_uri": "https://localhost:8080/",
          "height": 34
        }
      },
      "source": [
        "s = '   hello world   \\n'\n",
        "s.strip()\n",
        "s.lstrip()\n",
        "s.rstrip()\n",
        "re.sub('\\s+', ' ', s)\n",
        "print('a', 'b', 'c', sep=':')"
      ],
      "execution_count": 0,
      "outputs": [
        {
          "output_type": "execute_result",
          "data": {
            "text/plain": [
              "' hello world '"
            ]
          },
          "metadata": {
            "tags": []
          },
          "execution_count": 30
        }
      ]
    },
    {
      "cell_type": "code",
      "metadata": {
        "id": "SLL4iPfwTexv",
        "colab_type": "code",
        "outputId": "f0f5174d-4580-42c6-ba2a-5f3f78ada72a",
        "colab": {
          "base_uri": "https://localhost:8080/",
          "height": 34
        }
      },
      "source": [
        ""
      ],
      "execution_count": 0,
      "outputs": [
        {
          "output_type": "stream",
          "text": [
            "a:b:c\n"
          ],
          "name": "stdout"
        }
      ]
    }
  ]
}